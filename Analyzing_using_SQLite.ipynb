{
 "cells": [
  {
   "cell_type": "markdown",
   "metadata": {},
   "source": [
    "<p style=\"text-align:center\">\n",
    "    <a href=\"https://skills.network\" target=\"_blank\">\n",
    "    <img src=\"https://cf-courses-data.s3.us.cloud-object-storage.appdomain.cloud/assets/logos/SN_web_lightmode.png\" width=\"200\" alt=\"Skills Network Logo\">\n",
    "    </a>\n",
    "</p>\n",
    "\n",
    "# Analyzing a real world data-set with SQL and Python\n",
    "\n",
    "Estimated time needed: **15** minutes\n",
    "\n",
    "## Objectives\n",
    "\n",
    "After completing this lab you will be able to:\n",
    "\n",
    "*   Understand a dataset of selected socioeconomic indicators in Chicago\n",
    "*   Learn how to store data in an SQLite database.\n",
    "*   Solve example problems to practice your SQL skills\n"
   ]
  },
  {
   "cell_type": "markdown",
   "metadata": {},
   "source": [
    "## Selected Socioeconomic Indicators in Chicago\n",
    "\n",
    "The city of Chicago released a dataset of socioeconomic data to the Chicago City Portal.\n",
    "This dataset contains a selection of six socioeconomic indicators of public health significance and a “hardship index,” for each Chicago community area, for the years 2008 – 2012.\n",
    "\n",
    "Scores on the hardship index can range from 1 to 100, with a higher index number representing a greater level of hardship.\n",
    "\n",
    "A detailed description of the dataset can be found on [the city of Chicago's website](https://data.cityofchicago.org/Health-Human-Services/Census-Data-Selected-socioeconomic-indicators-in-C/kn9c-c2s2?utm_medium=Exinfluencer&utm_source=Exinfluencer&utm_content=000026UJ&utm_term=10006555&utm_id=NA-SkillsNetwork-Channel-SkillsNetworkCoursesIBMDeveloperSkillsNetworkDB0201ENSkillsNetwork20127838-2021-01-01), but to summarize, the dataset has the following variables:\n",
    "\n",
    "*   **Community Area Number** (`ca`): Used to uniquely identify each row of the dataset\n",
    "\n",
    "*   **Community Area Name** (`community_area_name`): The name of the region in the city of Chicago\n",
    "\n",
    "*   **Percent of Housing Crowded** (`percent_of_housing_crowded`): Percent of occupied housing units with more than one person per room\n",
    "\n",
    "*   **Percent Households Below Poverty** (`percent_households_below_poverty`): Percent of households living below the federal poverty line\n",
    "\n",
    "*   **Percent Aged 16+ Unemployed** (`percent_aged_16_unemployed`): Percent of persons over the age of 16 years that are unemployed\n",
    "\n",
    "*   **Percent Aged 25+ without High School Diploma** (`percent_aged_25_without_high_school_diploma`): Percent of persons over the age of 25 years without a high school education\n",
    "\n",
    "*   **Percent Aged Under** 18 or Over 64:Percent of population under 18 or over 64 years of age (`percent_aged_under_18_or_over_64`): (ie. dependents)\n",
    "\n",
    "*   **Per Capita Income** (`per_capita_income_`): Community Area per capita income is estimated as the sum of tract-level aggragate incomes divided by the total population\n",
    "\n",
    "*   **Hardship Index** (`hardship_index`): Score that incorporates each of the six selected socioeconomic indicators\n",
    "\n",
    "In this Lab, we'll take a look at the variables in the socioeconomic indicators dataset and do some basic analysis with Python.\n"
   ]
  },
  {
   "cell_type": "markdown",
   "metadata": {},
   "source": [
    "### Connect to the database\n",
    "\n",
    "Let us first load the SQL extension and establish a connection with the database\n",
    "\n",
    "##### The syntax for connecting to magic sql using sqllite is\n",
    "\n",
    "  **%sql sqlite://DatabaseName**   \n",
    "  \n",
    "where DatabaseName will be your **.db** file \n"
   ]
  },
  {
   "cell_type": "code",
   "execution_count": 9,
   "metadata": {
    "tags": []
   },
   "outputs": [
    {
     "name": "stdout",
     "output_type": "stream",
     "text": [
      "The sql extension is already loaded. To reload it, use:\n",
      "  %reload_ext sql\n"
     ]
    }
   ],
   "source": [
    "%load_ext sql"
   ]
  },
  {
   "cell_type": "code",
   "execution_count": 2,
   "metadata": {
    "tags": []
   },
   "outputs": [],
   "source": [
    "import csv, sqlite3\n",
    "\n",
    "con = sqlite3.connect(\"socioeconomic.db\")\n",
    "cur = con.cursor()\n",
    "!pip install -q pandas==1.1.5"
   ]
  },
  {
   "cell_type": "code",
   "execution_count": 3,
   "metadata": {
    "tags": []
   },
   "outputs": [
    {
     "data": {
      "text/plain": [
       "'Connected: @socioeconomic.db'"
      ]
     },
     "execution_count": 3,
     "metadata": {},
     "output_type": "execute_result"
    }
   ],
   "source": [
    "%sql sqlite:///socioeconomic.db"
   ]
  },
  {
   "cell_type": "markdown",
   "metadata": {},
   "source": [
    "### Store the dataset in a Table\n",
    "\n",
    "##### In many cases the dataset to be analyzed is available as a .CSV (comma separated values) file, perhaps on the internet. To analyze the data using SQL, it first needs to be stored in the database.\n",
    "\n",
    "##### We will first read the csv files  from the given url  into pandas dataframes\n",
    "\n",
    "##### Next we will be using the  df.to_sql() function to convert each csv file  to a table in sqlite  with the csv data loaded in it.\n",
    "\n"
   ]
  },
  {
   "cell_type": "code",
   "execution_count": 4,
   "metadata": {
    "tags": []
   },
   "outputs": [],
   "source": [
    "import pandas\n",
    "df = pandas.read_csv('https://data.cityofchicago.org/resource/jcxq-k9xf.csv')\n",
    "df.to_sql(\"chicago_socioeconomic_data\", con, if_exists='replace', index=False,method=\"multi\")\n"
   ]
  },
  {
   "cell_type": "markdown",
   "metadata": {},
   "source": [
    "##### You can verify that the table creation was successful by making a basic query like:\n"
   ]
  },
  {
   "cell_type": "code",
   "execution_count": 5,
   "metadata": {
    "tags": []
   },
   "outputs": [
    {
     "name": "stdout",
     "output_type": "stream",
     "text": [
      " * sqlite:///socioeconomic.db\n",
      "Done.\n"
     ]
    },
    {
     "data": {
      "text/html": [
       "<table>\n",
       "    <thead>\n",
       "        <tr>\n",
       "            <th>ca</th>\n",
       "            <th>community_area_name</th>\n",
       "            <th>percent_of_housing_crowded</th>\n",
       "            <th>percent_households_below_poverty</th>\n",
       "            <th>percent_aged_16_unemployed</th>\n",
       "            <th>percent_aged_25_without_high_school_diploma</th>\n",
       "            <th>percent_aged_under_18_or_over_64</th>\n",
       "            <th>per_capita_income_</th>\n",
       "            <th>hardship_index</th>\n",
       "        </tr>\n",
       "    </thead>\n",
       "    <tbody>\n",
       "        <tr>\n",
       "            <td>1.0</td>\n",
       "            <td>Rogers Park</td>\n",
       "            <td>7.7</td>\n",
       "            <td>23.6</td>\n",
       "            <td>8.7</td>\n",
       "            <td>18.2</td>\n",
       "            <td>27.5</td>\n",
       "            <td>23939</td>\n",
       "            <td>39.0</td>\n",
       "        </tr>\n",
       "        <tr>\n",
       "            <td>2.0</td>\n",
       "            <td>West Ridge</td>\n",
       "            <td>7.8</td>\n",
       "            <td>17.2</td>\n",
       "            <td>8.8</td>\n",
       "            <td>20.8</td>\n",
       "            <td>38.5</td>\n",
       "            <td>23040</td>\n",
       "            <td>46.0</td>\n",
       "        </tr>\n",
       "        <tr>\n",
       "            <td>3.0</td>\n",
       "            <td>Uptown</td>\n",
       "            <td>3.8</td>\n",
       "            <td>24.0</td>\n",
       "            <td>8.9</td>\n",
       "            <td>11.8</td>\n",
       "            <td>22.2</td>\n",
       "            <td>35787</td>\n",
       "            <td>20.0</td>\n",
       "        </tr>\n",
       "        <tr>\n",
       "            <td>4.0</td>\n",
       "            <td>Lincoln Square</td>\n",
       "            <td>3.4</td>\n",
       "            <td>10.9</td>\n",
       "            <td>8.2</td>\n",
       "            <td>13.4</td>\n",
       "            <td>25.5</td>\n",
       "            <td>37524</td>\n",
       "            <td>17.0</td>\n",
       "        </tr>\n",
       "        <tr>\n",
       "            <td>5.0</td>\n",
       "            <td>North Center</td>\n",
       "            <td>0.3</td>\n",
       "            <td>7.5</td>\n",
       "            <td>5.2</td>\n",
       "            <td>4.5</td>\n",
       "            <td>26.2</td>\n",
       "            <td>57123</td>\n",
       "            <td>6.0</td>\n",
       "        </tr>\n",
       "    </tbody>\n",
       "</table>"
      ],
      "text/plain": [
       "[(1.0, 'Rogers Park', 7.7, 23.6, 8.7, 18.2, 27.5, 23939, 39.0),\n",
       " (2.0, 'West Ridge', 7.8, 17.2, 8.8, 20.8, 38.5, 23040, 46.0),\n",
       " (3.0, 'Uptown', 3.8, 24.0, 8.9, 11.8, 22.2, 35787, 20.0),\n",
       " (4.0, 'Lincoln Square', 3.4, 10.9, 8.2, 13.4, 25.5, 37524, 17.0),\n",
       " (5.0, 'North Center', 0.3, 7.5, 5.2, 4.5, 26.2, 57123, 6.0)]"
      ]
     },
     "execution_count": 5,
     "metadata": {},
     "output_type": "execute_result"
    }
   ],
   "source": [
    "%sql SELECT * FROM chicago_socioeconomic_data limit 5;"
   ]
  },
  {
   "cell_type": "markdown",
   "metadata": {},
   "source": [
    "## Problems\n",
    "\n",
    "### Problem 1\n",
    "\n",
    "##### How many rows are in the dataset?\n"
   ]
  },
  {
   "cell_type": "code",
   "execution_count": 8,
   "metadata": {
    "tags": []
   },
   "outputs": [
    {
     "name": "stdout",
     "output_type": "stream",
     "text": [
      " * sqlite:///socioeconomic.db\n",
      "Done.\n"
     ]
    },
    {
     "data": {
      "text/html": [
       "<table>\n",
       "    <thead>\n",
       "        <tr>\n",
       "            <th>COUNT(*)</th>\n",
       "        </tr>\n",
       "    </thead>\n",
       "    <tbody>\n",
       "        <tr>\n",
       "            <td>78</td>\n",
       "        </tr>\n",
       "    </tbody>\n",
       "</table>"
      ],
      "text/plain": [
       "[(78,)]"
      ]
     },
     "execution_count": 8,
     "metadata": {},
     "output_type": "execute_result"
    }
   ],
   "source": [
    "%sql SELECT COUNT(*) FROM chicago_socioeconomic_data"
   ]
  },
  {
   "cell_type": "markdown",
   "metadata": {},
   "source": [
    "<details><summary>Click here for the solution</summary>\n",
    "\n",
    "```python\n",
    "%sql SELECT COUNT(*) FROM chicago_socioeconomic_data;\n",
    "\n",
    "Correct answer: 78\n",
    "```\n",
    "\n",
    "</details>\n"
   ]
  },
  {
   "cell_type": "markdown",
   "metadata": {},
   "source": [
    "### Problem 2\n",
    "\n",
    "##### How many community areas in Chicago have a hardship index greater than 50.0?\n"
   ]
  },
  {
   "cell_type": "code",
   "execution_count": 12,
   "metadata": {},
   "outputs": [
    {
     "name": "stdout",
     "output_type": "stream",
     "text": [
      " * sqlite:///socioeconomic.db\n",
      "Done.\n"
     ]
    },
    {
     "data": {
      "text/html": [
       "<table>\n",
       "    <thead>\n",
       "        <tr>\n",
       "            <th>COUNT(*)</th>\n",
       "        </tr>\n",
       "    </thead>\n",
       "    <tbody>\n",
       "        <tr>\n",
       "            <td>38</td>\n",
       "        </tr>\n",
       "    </tbody>\n",
       "</table>"
      ],
      "text/plain": [
       "[(38,)]"
      ]
     },
     "execution_count": 12,
     "metadata": {},
     "output_type": "execute_result"
    }
   ],
   "source": [
    "%sql SELECT COUNT(*) FROM chicago_socioeconomic_data WHERE hardship_index > '50'"
   ]
  },
  {
   "cell_type": "markdown",
   "metadata": {},
   "source": [
    "<details><summary>Click here for the solution</summary>\n",
    "\n",
    "```python\n",
    "%sql SELECT COUNT(*) FROM chicago_socioeconomic_data WHERE hardship_index > 50.0;\n",
    "\n",
    "Correct answer: 38\n",
    "```\n",
    "\n",
    "</details>\n"
   ]
  },
  {
   "cell_type": "markdown",
   "metadata": {},
   "source": [
    "### Problem 3\n",
    "\n",
    "##### What is the maximum value of hardship index in this dataset?\n"
   ]
  },
  {
   "cell_type": "code",
   "execution_count": 13,
   "metadata": {},
   "outputs": [
    {
     "name": "stdout",
     "output_type": "stream",
     "text": [
      " * sqlite:///socioeconomic.db\n",
      "Done.\n"
     ]
    },
    {
     "data": {
      "text/html": [
       "<table>\n",
       "    <thead>\n",
       "        <tr>\n",
       "            <th>MAX(hardship_index)</th>\n",
       "        </tr>\n",
       "    </thead>\n",
       "    <tbody>\n",
       "        <tr>\n",
       "            <td>98.0</td>\n",
       "        </tr>\n",
       "    </tbody>\n",
       "</table>"
      ],
      "text/plain": [
       "[(98.0,)]"
      ]
     },
     "execution_count": 13,
     "metadata": {},
     "output_type": "execute_result"
    }
   ],
   "source": [
    "%sql SELECT MAX(hardship_index) FROM chicago_socioeconomic_data"
   ]
  },
  {
   "cell_type": "markdown",
   "metadata": {},
   "source": [
    "<details><summary>Click here for the solution</summary>\n",
    "\n",
    "```python\n",
    "%sql SELECT MAX(hardship_index) FROM chicago_socioeconomic_data;\n",
    "\n",
    "Correct answer: 98.0\n",
    "```\n",
    "\n",
    "</details>\n"
   ]
  },
  {
   "cell_type": "markdown",
   "metadata": {},
   "source": [
    "### Problem 4\n",
    "\n",
    "##### Which community area which has the highest hardship index?\n"
   ]
  },
  {
   "cell_type": "code",
   "execution_count": 14,
   "metadata": {},
   "outputs": [
    {
     "name": "stdout",
     "output_type": "stream",
     "text": [
      " * sqlite:///socioeconomic.db\n",
      "Done.\n"
     ]
    },
    {
     "data": {
      "text/html": [
       "<table>\n",
       "    <thead>\n",
       "        <tr>\n",
       "            <th>ca</th>\n",
       "            <th>community_area_name</th>\n",
       "            <th>percent_of_housing_crowded</th>\n",
       "            <th>percent_households_below_poverty</th>\n",
       "            <th>percent_aged_16_unemployed</th>\n",
       "            <th>percent_aged_25_without_high_school_diploma</th>\n",
       "            <th>percent_aged_under_18_or_over_64</th>\n",
       "            <th>per_capita_income_</th>\n",
       "            <th>hardship_index</th>\n",
       "        </tr>\n",
       "    </thead>\n",
       "    <tbody>\n",
       "        <tr>\n",
       "            <td>54.0</td>\n",
       "            <td>Riverdale</td>\n",
       "            <td>5.8</td>\n",
       "            <td>56.5</td>\n",
       "            <td>34.6</td>\n",
       "            <td>27.5</td>\n",
       "            <td>51.5</td>\n",
       "            <td>8201</td>\n",
       "            <td>98.0</td>\n",
       "        </tr>\n",
       "    </tbody>\n",
       "</table>"
      ],
      "text/plain": [
       "[(54.0, 'Riverdale', 5.8, 56.5, 34.6, 27.5, 51.5, 8201, 98.0)]"
      ]
     },
     "execution_count": 14,
     "metadata": {},
     "output_type": "execute_result"
    }
   ],
   "source": [
    "%sql SELECT * FROM chicago_socioeconomic_data WHERE hardship_index = (SELECT MAX(hardship_index) FROM chicago_socioeconomic_data)"
   ]
  },
  {
   "cell_type": "markdown",
   "metadata": {},
   "source": [
    "<details><summary>Click here for the solution</summary>\n",
    "\n",
    "```python\n",
    "#We can use the result of the last query to as an input to this query:\n",
    "%sql SELECT community_area_name FROM chicago_socioeconomic_data where hardship_index=98.0\n",
    "\n",
    "#or another option:\n",
    "%sql SELECT community_area_name FROM chicago_socioeconomic_data ORDER BY hardship_index DESC NULLS LAST FETCH FIRST ROW ONLY;\n",
    "\n",
    "#or you can use a sub-query to determine the max hardship index:\n",
    "%sql select community_area_name from chicago_socioeconomic_data where hardship_index = ( select max(hardship_index) from chicago_socioeconomic_data ) \n",
    "\n",
    "Correct answer: 'Riverdale'\n",
    "    \n",
    "```\n",
    "\n",
    "</details>\n"
   ]
  },
  {
   "cell_type": "markdown",
   "metadata": {},
   "source": [
    "### Problem 5\n",
    "\n",
    "##### Which Chicago community areas have per-capita incomes greater than $60,000?\n"
   ]
  },
  {
   "cell_type": "code",
   "execution_count": 37,
   "metadata": {},
   "outputs": [
    {
     "name": "stdout",
     "output_type": "stream",
     "text": [
      " * sqlite:///socioeconomic.db\n",
      "Done.\n"
     ]
    },
    {
     "data": {
      "text/html": [
       "<table>\n",
       "    <thead>\n",
       "        <tr>\n",
       "            <th>per_capita_income_</th>\n",
       "            <th>hardship_index</th>\n",
       "        </tr>\n",
       "    </thead>\n",
       "    <tbody>\n",
       "        <tr>\n",
       "            <td>8201</td>\n",
       "            <td>98.0</td>\n",
       "        </tr>\n",
       "        <tr>\n",
       "            <td>10402</td>\n",
       "            <td>96.0</td>\n",
       "        </tr>\n",
       "        <tr>\n",
       "            <td>10432</td>\n",
       "            <td>97.0</td>\n",
       "        </tr>\n",
       "        <tr>\n",
       "            <td>10934</td>\n",
       "            <td>92.0</td>\n",
       "        </tr>\n",
       "        <tr>\n",
       "            <td>11317</td>\n",
       "            <td>89.0</td>\n",
       "        </tr>\n",
       "        <tr>\n",
       "            <td>11888</td>\n",
       "            <td>94.0</td>\n",
       "        </tr>\n",
       "        <tr>\n",
       "            <td>12034</td>\n",
       "            <td>87.0</td>\n",
       "        </tr>\n",
       "        <tr>\n",
       "            <td>12171</td>\n",
       "            <td>93.0</td>\n",
       "        </tr>\n",
       "        <tr>\n",
       "            <td>12515</td>\n",
       "            <td>79.0</td>\n",
       "        </tr>\n",
       "        <tr>\n",
       "            <td>12765</td>\n",
       "            <td>91.0</td>\n",
       "        </tr>\n",
       "        <tr>\n",
       "            <td>12961</td>\n",
       "            <td>83.0</td>\n",
       "        </tr>\n",
       "        <tr>\n",
       "            <td>13089</td>\n",
       "            <td>84.0</td>\n",
       "        </tr>\n",
       "        <tr>\n",
       "            <td>13231</td>\n",
       "            <td>80.0</td>\n",
       "        </tr>\n",
       "        <tr>\n",
       "            <td>13781</td>\n",
       "            <td>85.0</td>\n",
       "        </tr>\n",
       "        <tr>\n",
       "            <td>13785</td>\n",
       "            <td>88.0</td>\n",
       "        </tr>\n",
       "        <tr>\n",
       "            <td>14685</td>\n",
       "            <td>65.0</td>\n",
       "        </tr>\n",
       "        <tr>\n",
       "            <td>15089</td>\n",
       "            <td>71.0</td>\n",
       "        </tr>\n",
       "        <tr>\n",
       "            <td>15461</td>\n",
       "            <td>70.0</td>\n",
       "        </tr>\n",
       "        <tr>\n",
       "            <td>15528</td>\n",
       "            <td>74.0</td>\n",
       "        </tr>\n",
       "        <tr>\n",
       "            <td>15754</td>\n",
       "            <td>69.0</td>\n",
       "        </tr>\n",
       "        <tr>\n",
       "            <td>15957</td>\n",
       "            <td>73.0</td>\n",
       "        </tr>\n",
       "        <tr>\n",
       "            <td>16134</td>\n",
       "            <td>67.0</td>\n",
       "        </tr>\n",
       "        <tr>\n",
       "            <td>16148</td>\n",
       "            <td>82.0</td>\n",
       "        </tr>\n",
       "        <tr>\n",
       "            <td>16444</td>\n",
       "            <td>76.0</td>\n",
       "        </tr>\n",
       "        <tr>\n",
       "            <td>16563</td>\n",
       "            <td>62.0</td>\n",
       "        </tr>\n",
       "        <tr>\n",
       "            <td>16579</td>\n",
       "            <td>75.0</td>\n",
       "        </tr>\n",
       "        <tr>\n",
       "            <td>16907</td>\n",
       "            <td>56.0</td>\n",
       "        </tr>\n",
       "        <tr>\n",
       "            <td>16954</td>\n",
       "            <td>61.0</td>\n",
       "        </tr>\n",
       "        <tr>\n",
       "            <td>17104</td>\n",
       "            <td>64.0</td>\n",
       "        </tr>\n",
       "        <tr>\n",
       "            <td>17285</td>\n",
       "            <td>66.0</td>\n",
       "        </tr>\n",
       "        <tr>\n",
       "            <td>17949</td>\n",
       "            <td>52.0</td>\n",
       "        </tr>\n",
       "        <tr>\n",
       "            <td>18672</td>\n",
       "            <td>58.0</td>\n",
       "        </tr>\n",
       "        <tr>\n",
       "            <td>18881</td>\n",
       "            <td>60.0</td>\n",
       "        </tr>\n",
       "        <tr>\n",
       "            <td>19252</td>\n",
       "            <td>78.0</td>\n",
       "        </tr>\n",
       "        <tr>\n",
       "            <td>19398</td>\n",
       "            <td>55.0</td>\n",
       "        </tr>\n",
       "        <tr>\n",
       "            <td>19713</td>\n",
       "            <td>48.0</td>\n",
       "        </tr>\n",
       "        <tr>\n",
       "            <td>20039</td>\n",
       "            <td>42.0</td>\n",
       "        </tr>\n",
       "        <tr>\n",
       "            <td>20588</td>\n",
       "            <td>51.0</td>\n",
       "        </tr>\n",
       "        <tr>\n",
       "            <td>21323</td>\n",
       "            <td>53.0</td>\n",
       "        </tr>\n",
       "        <tr>\n",
       "            <td>22014</td>\n",
       "            <td>50.0</td>\n",
       "        </tr>\n",
       "        <tr>\n",
       "            <td>22677</td>\n",
       "            <td>44.0</td>\n",
       "        </tr>\n",
       "        <tr>\n",
       "            <td>22694</td>\n",
       "            <td>43.0</td>\n",
       "        </tr>\n",
       "        <tr>\n",
       "            <td>23040</td>\n",
       "            <td>46.0</td>\n",
       "        </tr>\n",
       "        <tr>\n",
       "            <td>23472</td>\n",
       "            <td>57.0</td>\n",
       "        </tr>\n",
       "        <tr>\n",
       "            <td>23482</td>\n",
       "            <td>37.0</td>\n",
       "        </tr>\n",
       "        <tr>\n",
       "            <td>23791</td>\n",
       "            <td>47.0</td>\n",
       "        </tr>\n",
       "        <tr>\n",
       "            <td>23939</td>\n",
       "            <td>39.0</td>\n",
       "        </tr>\n",
       "        <tr>\n",
       "            <td>24336</td>\n",
       "            <td>35.0</td>\n",
       "        </tr>\n",
       "        <tr>\n",
       "            <td>24454</td>\n",
       "            <td>41.0</td>\n",
       "        </tr>\n",
       "        <tr>\n",
       "            <td>25113</td>\n",
       "            <td>29.0</td>\n",
       "        </tr>\n",
       "        <tr>\n",
       "            <td>25828</td>\n",
       "            <td>24.0</td>\n",
       "        </tr>\n",
       "        <tr>\n",
       "            <td>26282</td>\n",
       "            <td>28.0</td>\n",
       "        </tr>\n",
       "        <tr>\n",
       "            <td>26353</td>\n",
       "            <td>32.0</td>\n",
       "        </tr>\n",
       "        <tr>\n",
       "            <td>26576</td>\n",
       "            <td>33.0</td>\n",
       "        </tr>\n",
       "        <tr>\n",
       "            <td>27149</td>\n",
       "            <td>30.0</td>\n",
       "        </tr>\n",
       "        <tr>\n",
       "            <td>27249</td>\n",
       "            <td>34.0</td>\n",
       "        </tr>\n",
       "        <tr>\n",
       "            <td>27751</td>\n",
       "            <td>25.0</td>\n",
       "        </tr>\n",
       "        <tr>\n",
       "            <td>28202</td>\n",
       "            <td>None</td>\n",
       "        </tr>\n",
       "        <tr>\n",
       "            <td>28887</td>\n",
       "            <td>38.0</td>\n",
       "        </tr>\n",
       "        <tr>\n",
       "            <td>31908</td>\n",
       "            <td>23.0</td>\n",
       "        </tr>\n",
       "        <tr>\n",
       "            <td>32875</td>\n",
       "            <td>21.0</td>\n",
       "        </tr>\n",
       "        <tr>\n",
       "            <td>33385</td>\n",
       "            <td>19.0</td>\n",
       "        </tr>\n",
       "        <tr>\n",
       "            <td>34381</td>\n",
       "            <td>16.0</td>\n",
       "        </tr>\n",
       "        <tr>\n",
       "            <td>35787</td>\n",
       "            <td>20.0</td>\n",
       "        </tr>\n",
       "        <tr>\n",
       "            <td>35911</td>\n",
       "            <td>26.0</td>\n",
       "        </tr>\n",
       "        <tr>\n",
       "            <td>37524</td>\n",
       "            <td>17.0</td>\n",
       "        </tr>\n",
       "        <tr>\n",
       "            <td>39056</td>\n",
       "            <td>14.0</td>\n",
       "        </tr>\n",
       "        <tr>\n",
       "            <td>39523</td>\n",
       "            <td>12.0</td>\n",
       "        </tr>\n",
       "        <tr>\n",
       "            <td>40959</td>\n",
       "            <td>8.0</td>\n",
       "        </tr>\n",
       "        <tr>\n",
       "            <td>43198</td>\n",
       "            <td>10.0</td>\n",
       "        </tr>\n",
       "        <tr>\n",
       "            <td>44164</td>\n",
       "            <td>11.0</td>\n",
       "        </tr>\n",
       "        <tr>\n",
       "            <td>44689</td>\n",
       "            <td>15.0</td>\n",
       "        </tr>\n",
       "        <tr>\n",
       "            <td>57123</td>\n",
       "            <td>6.0</td>\n",
       "        </tr>\n",
       "        <tr>\n",
       "            <td>59077</td>\n",
       "            <td>7.0</td>\n",
       "        </tr>\n",
       "        <tr>\n",
       "            <td>60058</td>\n",
       "            <td>5.0</td>\n",
       "        </tr>\n",
       "        <tr>\n",
       "            <td>65526</td>\n",
       "            <td>3.0</td>\n",
       "        </tr>\n",
       "        <tr>\n",
       "            <td>71551</td>\n",
       "            <td>2.0</td>\n",
       "        </tr>\n",
       "        <tr>\n",
       "            <td>88669</td>\n",
       "            <td>1.0</td>\n",
       "        </tr>\n",
       "    </tbody>\n",
       "</table>"
      ],
      "text/plain": [
       "[(8201, 98.0),\n",
       " (10402, 96.0),\n",
       " (10432, 97.0),\n",
       " (10934, 92.0),\n",
       " (11317, 89.0),\n",
       " (11888, 94.0),\n",
       " (12034, 87.0),\n",
       " (12171, 93.0),\n",
       " (12515, 79.0),\n",
       " (12765, 91.0),\n",
       " (12961, 83.0),\n",
       " (13089, 84.0),\n",
       " (13231, 80.0),\n",
       " (13781, 85.0),\n",
       " (13785, 88.0),\n",
       " (14685, 65.0),\n",
       " (15089, 71.0),\n",
       " (15461, 70.0),\n",
       " (15528, 74.0),\n",
       " (15754, 69.0),\n",
       " (15957, 73.0),\n",
       " (16134, 67.0),\n",
       " (16148, 82.0),\n",
       " (16444, 76.0),\n",
       " (16563, 62.0),\n",
       " (16579, 75.0),\n",
       " (16907, 56.0),\n",
       " (16954, 61.0),\n",
       " (17104, 64.0),\n",
       " (17285, 66.0),\n",
       " (17949, 52.0),\n",
       " (18672, 58.0),\n",
       " (18881, 60.0),\n",
       " (19252, 78.0),\n",
       " (19398, 55.0),\n",
       " (19713, 48.0),\n",
       " (20039, 42.0),\n",
       " (20588, 51.0),\n",
       " (21323, 53.0),\n",
       " (22014, 50.0),\n",
       " (22677, 44.0),\n",
       " (22694, 43.0),\n",
       " (23040, 46.0),\n",
       " (23472, 57.0),\n",
       " (23482, 37.0),\n",
       " (23791, 47.0),\n",
       " (23939, 39.0),\n",
       " (24336, 35.0),\n",
       " (24454, 41.0),\n",
       " (25113, 29.0),\n",
       " (25828, 24.0),\n",
       " (26282, 28.0),\n",
       " (26353, 32.0),\n",
       " (26576, 33.0),\n",
       " (27149, 30.0),\n",
       " (27249, 34.0),\n",
       " (27751, 25.0),\n",
       " (28202, None),\n",
       " (28887, 38.0),\n",
       " (31908, 23.0),\n",
       " (32875, 21.0),\n",
       " (33385, 19.0),\n",
       " (34381, 16.0),\n",
       " (35787, 20.0),\n",
       " (35911, 26.0),\n",
       " (37524, 17.0),\n",
       " (39056, 14.0),\n",
       " (39523, 12.0),\n",
       " (40959, 8.0),\n",
       " (43198, 10.0),\n",
       " (44164, 11.0),\n",
       " (44689, 15.0),\n",
       " (57123, 6.0),\n",
       " (59077, 7.0),\n",
       " (60058, 5.0),\n",
       " (65526, 3.0),\n",
       " (71551, 2.0),\n",
       " (88669, 1.0)]"
      ]
     },
     "execution_count": 37,
     "metadata": {},
     "output_type": "execute_result"
    }
   ],
   "source": [
    "%sql SELECT per_capita_income_, hardship_index FROM chicago_socioeconomic_data ORDER BY per_capita_income_;"
   ]
  },
  {
   "cell_type": "markdown",
   "metadata": {},
   "source": [
    "<details><summary>Click here for the solution</summary>\n",
    "\n",
    "```python\n",
    "%sql SELECT community_area_name FROM chicago_socioeconomic_data WHERE per_capita_income_ > 60000;\n",
    "\n",
    "Correct answer:Lake View,Lincoln Park, Near North Side, Loop\n",
    "    \n",
    "```\n",
    "\n",
    "</details>\n"
   ]
  },
  {
   "cell_type": "markdown",
   "metadata": {},
   "source": [
    "### Problem 6\n",
    "\n",
    "##### Create a scatter plot using the variables `per_capita_income_` and `hardship_index`. Explain the correlation between the two variables.\n"
   ]
  },
  {
   "cell_type": "code",
   "execution_count": 36,
   "metadata": {},
   "outputs": [
    {
     "name": "stdout",
     "output_type": "stream",
     "text": [
      " * sqlite:///socioeconomic.db\n",
      "Done.\n"
     ]
    },
    {
     "data": {
      "image/png": "[encoded data removed]",
      "text/plain": [
       "<Figure size 600x600 with 3 Axes>"
      ]
     },
     "metadata": {},
     "output_type": "display_data"
    }
   ],
   "source": [
    "import matplotlib.pyplot as plt\n",
    "%matplotlib inline\n",
    "import seaborn as sns\n",
    "hardship_data = %sql SELECT per_capita_income_, hardship_index FROM chicago_socioeconomic_data ORDER BY per_capita_income_;\n",
    "plotline = sns.jointplot(y=\"hardship_index\",x=\"per_capita_income_\",data=hardship_data.DataFrame())\n",
    "\n",
    "# As income rises there is a direct corelation with the hardship_index lowering. This is a negative correlation as the line is going down. "
   ]
  },
  {
   "cell_type": "markdown",
   "metadata": {},
   "source": [
    "<details><summary>Click here for the solution</summary>\n",
    "\n",
    "```python\n",
    "# if the import command gives ModuleNotFoundError: No module named 'seaborn'\n",
    "# then uncomment the following line i.e. delete the # to install the seaborn package \n",
    "# !pip install seaborn\n",
    "\n",
    "import matplotlib.pyplot as plt\n",
    "%matplotlib inline\n",
    "import seaborn as sns\n",
    "\n",
    "income_vs_hardship = %sql SELECT per_capita_income_, hardship_index FROM chicago_socioeconomic_data;\n",
    "plot = sns.jointplot(x='per_capita_income_',y='hardship_index', data=income_vs_hardship.DataFrame())\n",
    "\n",
    "Correct answer:You can see that as Per Capita Income rises as the Hardship Index decreases. We see that the points on the scatter plot are somewhat closer to a straight line in the negative direction, so we have a negative correlation between the two variables. \n",
    "    \n",
    "```\n",
    "\n",
    "</details>\n"
   ]
  },
  {
   "cell_type": "markdown",
   "metadata": {},
   "source": [
    "### Conclusion\n",
    "\n",
    "##### Now that you know how to do basic exploratory data analysis using SQL and python visualization tools, you can further explore this dataset to see how the variable `per_capita_income_` is related to `percent_households_below_poverty` and `percent_aged_16_unemployed`. Try to create interesting visualizations!\n"
   ]
  },
  {
   "cell_type": "code",
   "execution_count": 42,
   "metadata": {
    "tags": []
   },
   "outputs": [
    {
     "name": "stdout",
     "output_type": "stream",
     "text": [
      " * sqlite:///socioeconomic.db\n",
      "Done.\n"
     ]
    },
    {
     "data": {
      "image/png": "[encoded data removed]",
      "text/plain": [
       "<Figure size 600x600 with 3 Axes>"
      ]
     },
     "metadata": {},
     "output_type": "display_data"
    }
   ],
   "source": [
    "poverty_data = %sql SELECT per_capita_income_, percent_households_below_poverty FROM chicago_socioeconomic_data ORDER BY 2 DESC\n",
    "poverty_plot = sns.jointplot(x=\"per_capita_income_\",y=\"percent_households_below_poverty\",data=poverty_data.DataFrame())\n",
    "#A negative correlation between per capita income and the percent of house holds below poverty. As the per-capita income rises there are less households impoversished."
   ]
  },
  {
   "cell_type": "code",
   "execution_count": 46,
   "metadata": {
    "tags": []
   },
   "outputs": [
    {
     "name": "stdout",
     "output_type": "stream",
     "text": [
      " * sqlite:///socioeconomic.db\n",
      "Done.\n"
     ]
    },
    {
     "data": {
      "image/png": "[encoded data removed]",
      "text/plain": [
       "<Figure size 600x600 with 3 Axes>"
      ]
     },
     "metadata": {},
     "output_type": "display_data"
    }
   ],
   "source": [
    "unemployed16_data = %sql SELECT per_capita_income_, percent_aged_16_unemployed FROM chicago_socioeconomic_data ORDER BY 2 DESC;\n",
    "unemployplot = sns.jointplot(x=\"per_capita_income_\",y=\"percent_aged_16_unemployed\",data=unemployed16_data.DataFrame())\n",
    "#Another negative correlation with unemployment for per capita income and the numner"
   ]
  },
  {
   "cell_type": "markdown",
   "metadata": {},
   "source": [
    "## Summary\n",
    "\n",
    "##### In this lab you learned how to store a real world data set from the internet in a database, gain insights into data using SQL queries. You also visualized a portion of the data in the database to see what story it tells.\n"
   ]
  },
  {
   "cell_type": "markdown",
   "metadata": {},
   "source": [
    "## Author\n",
    "\n",
    "<a href=\"https://www.linkedin.com/in/ravahuja/?utm_medium=Exinfluencer&utm_source=Exinfluencer&utm_content=000026UJ&utm_term=10006555&utm_id=NA-SkillsNetwork-Channel-SkillsNetworkCoursesIBMDeveloperSkillsNetworkDB0201ENSkillsNetwork20127838-2021-01-01\" target=\"_blank\">Rav Ahuja</a>\n",
    "\n",
    "## Change Log\n",
    "\n",
    "| Date (YYYY-MM-DD) | Version | Changed By    | Change Description                 |\n",
    "| ----------------- | ------- | ------------- | ---------------------------------- |\n",
    "| 2022-03-04        | 2.3     | Lakshmi Holla     | Made changes in markdown cells |\n",
    "| 2021-07-09        | 2.2     | Malika        | Updated connection string          |\n",
    "| 2021-05-06        | 2.1     | Malika Singla | Added libraries                    |\n",
    "| 2020-08-28        | 2.0     | Lavanya       | Moved lab to course repo in GitLab |\n",
    "\n",
    "<hr>\n",
    "\n",
    "## <h3 align=\"center\"> © IBM Corporation 2020. All rights reserved. <h3/>\n"
   ]
  }
 ],
 "metadata": {
  "kernelspec": {
   "display_name": "Python",
   "language": "python",
   "name": "conda-env-python-py"
  },
  "language_info": {
   "codemirror_mode": {
    "name": "ipython",
    "version": 3
   },
   "file_extension": ".py",
   "mimetype": "text/x-python",
   "name": "python",
   "nbconvert_exporter": "python",
   "pygments_lexer": "ipython3",
   "version": "3.7.12"
  }
 },
 "nbformat": 4,
 "nbformat_minor": 4
}
